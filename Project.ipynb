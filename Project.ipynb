{
  "nbformat": 4,
  "nbformat_minor": 0,
  "metadata": {
    "colab": {
      "name": "Project.ipynb",
      "provenance": [],
      "collapsed_sections": []
    },
    "kernelspec": {
      "name": "python3",
      "display_name": "Python 3"
    },
    "language_info": {
      "name": "python"
    }
  },
  "cells": [
    {
      "cell_type": "code",
      "execution_count": 2,
      "metadata": {
        "colab": {
          "base_uri": "https://localhost:8080/"
        },
        "id": "azgOCWNlWtsH",
        "outputId": "805ecd7c-6260-4ec1-f1c8-d1951ab15621"
      },
      "outputs": [
        {
          "output_type": "stream",
          "name": "stdout",
          "text": [
            "Cloning into 'yolov5'...\n",
            "remote: Enumerating objects: 12789, done.\u001b[K\n",
            "remote: Total 12789 (delta 0), reused 0 (delta 0), pack-reused 12789\u001b[K\n",
            "Receiving objects: 100% (12789/12789), 11.81 MiB | 28.46 MiB/s, done.\n",
            "Resolving deltas: 100% (8889/8889), done.\n"
          ]
        }
      ],
      "source": [
        "!git clone https://github.com/ultralytics/yolov5.git"
      ]
    },
    {
      "cell_type": "code",
      "source": [
        "%cd yolov5"
      ],
      "metadata": {
        "colab": {
          "base_uri": "https://localhost:8080/"
        },
        "id": "vR7VC7SFW_87",
        "outputId": "5b544f1e-309a-4cf6-eafd-d85a035bda6e"
      },
      "execution_count": 3,
      "outputs": [
        {
          "output_type": "stream",
          "name": "stdout",
          "text": [
            "/content/yolov5\n"
          ]
        }
      ]
    },
    {
      "cell_type": "code",
      "source": [
        "import requests\n",
        "url = \"https://drive.google.com/uc?id=1CN4WStmQbhEseUt-HLRKjMDFnpp9eOwN&export=download\"\n",
        "r = requests.get(url)\n",
        "with open('temp.jpg', 'wb') as f:\n",
        "   f.write(r.content)"
      ],
      "metadata": {
        "id": "JeciRVeCXDO4"
      },
      "execution_count": 18,
      "outputs": []
    }
  ]
}